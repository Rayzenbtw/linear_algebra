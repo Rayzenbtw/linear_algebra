{
 "cells": [
  {
   "cell_type": "markdown",
   "metadata": {},
   "source": [
    "<a target=\"_blank\" href=\"https://colab.research.google.com/github/LPolyakova/Linear_Algebra_for_CS_students/blob/main/Colab_templates/LA_COLAB_01_TEMPLATE.ipynb\">\n",
    "  <img src=\"https://colab.research.google.com/assets/colab-badge.svg\" alt=\"Open In Colab\"/>\n",
    "</a>"
   ]
  },
  {
   "cell_type": "markdown",
   "metadata": {
    "id": "wO7rDz2w7pM3"
   },
   "source": [
    "# **ЛА_COLAB_01: базові поняття лінійної алгебри**"
   ]
  },
  {
   "cell_type": "markdown",
   "metadata": {
    "id": "R-PFsPsS_hZ_"
   },
   "source": [
    "**Володимир Шигімагін, МФ-11**"
   ]
  },
  {
   "cell_type": "markdown",
   "metadata": {
    "id": "VyPQqmIk75wW"
   },
   "source": [
    "В цьому колабі треба продемонструвати виконання завдань з комп'ютерних практикумів LA_CP_01, LA_CP_02, LA_CP_03, які знаходяться за [адресою](https://github.com/LPolyakova/Linear_Algebra_for_CS_students/tree/main/CP)"
   ]
  },
  {
   "cell_type": "markdown",
   "metadata": {
    "id": "MY3sTd5U8cXV"
   },
   "source": [
    "Користуватись ресурсами з інтернету або штучним інтелектом не заборонено. Однак, якщо ви використовуєте ШІ, код, довідкові матеріали з інтернету або літератури, ОБОВ'ЯЗКОВО вказуйте посилання на ці ресурси в коментарях. Інакше це буде розцінено як плагіат і завдання не буде зараховано. Також ви повинні розібратися в усьому, що використовували, і бути в змозі відповідати на питання, які стосуються всього, що є у вашій роботі.\n",
    "\n",
    "Виконувати завдання слід САМОСТІЙНО. У разі виявлення однакових розв'язків роботи будуть анульовані!\n",
    "\n",
    "Необхідні імпорти вказано в преамбулі. Імпортувати інші пакети не дозволяється\n",
    "\n",
    "📕 [Довідник з Markdown](https://www.markdownguide.org\n",
    ") (для набору в текстових комірках)\n",
    "\n",
    "📕 [Короткий довідник набору формул у TeX](https://ru.wikibooks.org/wiki/%D0%9C%D0%B0%D1%82%D0%B5%D0%BC%D0%B0%D1%82%D0%B8%D1%87%D0%B5%D1%81%D0%BA%D0%B8%D0%B5_%D1%84%D0%BE%D1%80%D0%BC%D1%83%D0%BB%D1%8B_%D0%B2_LaTeX)"
   ]
  },
  {
   "cell_type": "code",
   "execution_count": null,
   "metadata": {
    "id": "3Wx4heRt7FrT"
   },
   "outputs": [],
   "source": [
    "import matplotlib.pyplot as plt\n",
    "import numpy as np\n",
    "import networkx as nx\n",
    "import pandas as pd\n",
    "from scipy import linalg\n",
    "import sympy"
   ]
  },
  {
   "cell_type": "markdown",
   "metadata": {
    "id": "KRAhGRE39XwX"
   },
   "source": [
    " 💻 **Вправа 1.** Оберіть одну з вправ 1.1 - 1.5 на ваш вибір з комп'ютерного практикуму [LA_CP_01](https://github.com/LPolyakova/Linear_Algebra_for_CS_students/blob/main/CP/LA_CP_01_Matrices.ipynb). Скопіюйте умову в комірки нижче та виконайте завдання."
   ]
  },
  {
   "cell_type": "markdown",
   "metadata": {
    "id": "NwCwA-2L96HJ"
   },
   "source": [
    "✔️ *💻 **1.3. Decorate matrix.** \n",
    "\n",
    "Напишіть функцію decorate\\_matrix, яка отримує на вхід матрицю $m\\times n$ і ``обходить'' її одиницями. Наприклад, із матриці\n",
    "\n",
    "$\\left( \\begin{array}{cc} 3 & 2 \\\\ 2 & 3 \\end{array} \\right)$ робить матрицю $\\left( \\begin{array}{cccc} 1 & 1 & 1 & 1 \\\\ 1 & 3 & 2 & 1 \\\\ 1 & 2 & 3 & 1 \\\\ 1 & 1 & 1 & 1 \\end{array} \\right)$. Використовуйте засоби numpy, не використовуйте цикли та поелементне присвоєння.*"
   ]
  },
  {
   "cell_type": "code",
   "execution_count": null,
   "metadata": {
    "id": "okRURROp9KFe"
   },
   "outputs": [],
   "source": [
    "# write your code here\n",
    "import numpy as np\n",
    "\n",
    "def decorate_matrix(matrix):\n",
    "    m, n = matrix.shape\n",
    "    decorated = np.ones((m + 2, n + 2), dtype=matrix.dtype)  # Create a matrix of ones\n",
    "    decorated[1:-1, 1:-1] = matrix  # Place the original matrix in the center\n",
    "    return decorated\n",
    "\n",
    "# Example usage:\n",
    "matrix = np.array([[3, 2], [2, 3]])\n",
    "result = decorate_matrix(matrix)\n",
    "print(result)\n",
    "\n"
   ]
  },
  {
   "cell_type": "markdown",
   "metadata": {
    "id": "BNaaoaNw-fCT"
   },
   "source": [
    "<font color=\"red\"> *Коментар викладача:* <font>"
   ]
  },
  {
   "cell_type": "markdown",
   "metadata": {
    "id": "cf2hxpP4AyDL"
   },
   "source": [
    "\n",
    "🧩  **Задача 1.** Оберіть одну із задач 1.6 - 1.7 на ваш вибір з комп'ютерного практикуму [LA_CP_01](https://github.com/LPolyakova/Linear_Algebra_for_CS_students/blob/main/CP/LA_CP_01_Matrices.ipynb). Скопіюйте умову в комірки нижче та виконайте завдання."
   ]
  },
  {
   "cell_type": "markdown",
   "metadata": {
    "id": "B8vAPaTNAyDM"
   },
   "source": [
    "✔️ *Запишіть умови й розв'язки тут та нижче*\n",
    "🧩 **1.6. Лінійні рекурентні співвідношення**\n",
    "\n",
    "Числа Фібоначчі -- це послідовність чисел $F_n$, заданих умовами $F_0=0, F_1=1$, а далі $F_{n+1} = F_n+F_{n-1}$ для кожного $n>1$.\n",
    "\n",
    "Для обчислення чисел Фібоначчі  можна скористатися не лише традиційним, але й матричним способом.\n",
    "\n",
    "Розглянемо матрицю $M = \\left(\\begin{array}{cc}\n",
    "\t\t1 & 1  \\\\\n",
    "\t\t1 & 0 \n",
    "\t\\end{array}\n",
    "\t\\right) $. \n",
    "Тоді  $\\left(\\begin{array}{c}\n",
    "\t\tF_{n+1}   \\\\\n",
    "\t\tF_{n}  \n",
    "\t\\end{array}\n",
    "\t\\right) = M \\left(\\begin{array}{c} F_{n}   \\\\ F_{n-1}  \\end{array} \\right) $."
   ]
  },
  {
   "cell_type": "markdown",
   "metadata": {},
   "source": [
    "1️⃣ Доведіть методом мат. індукції, що $\\left(\\begin{array}{c}\n",
    "F_{n+1} \\\\\n",
    "F_{n}\n",
    "\\end{array}\n",
    "\\right) = M^n \\left(\\begin{array}{c} 1 \\\\ 0 \\end{array} \\right) $.\n",
    "    \n",
    "Тобто для обчислення $n$ -го і $n + 1$ -го чисел Фібоначчі достатньо обчислити $n$ -ий степінь матриці $M$ і помножити на вектор початкових значень."
   ]
  },
  {
   "cell_type": "markdown",
   "metadata": {},
   "source": [
    "✔️ *Ваші міркування запишіть тут.*\n",
    "\n",
    "# Доказ методом математичної індукції\n",
    "\n",
    "## Твердження:\n",
    "Доведемо, що для всіх $ n \\geq 0 $ виконується рівність:\n",
    "$$\n",
    "\\begin{pmatrix} F_{n+1} \\\\ F_n \\end{pmatrix} = M^n \\begin{pmatrix} 1 \\\\ 0 \\end{pmatrix},\n",
    "$$\n",
    "де $M = \\begin{pmatrix} 1&1\\\\1&0\\end{pmatrix}$.\n",
    "\n",
    "## Доказ:\n",
    "\n",
    "### База індукції ($ n = 0 $):\n",
    "Перевіримо затвердження для $n = 0$:\n",
    "$$\n",
    "\\begin{pmatrix} F_{0+1} \\\\ F_0 \\end{pmatrix} = \\begin{pmatrix} 1 \\\\ 0 \\end{pmatrix}.\n",
    "$$\n",
    "Праворуч:\n",
    "$$\n",
    "M^0 \\begin{pmatrix} 1 \\\\ 0 \\end{pmatrix} = I \\begin{pmatrix} 1 \\\\ 0 \\end{pmatrix} = \\begin{pmatrix} 1 \\\\ 0 \\end{pmatrix}.\n",
    "$$\n",
    "База виконується.\n",
    "\n",
    "### Індукційний крок:\n",
    "Припустимо, що твердження правильне для $ n = k $, тобто:\n",
    "$$\n",
    "\\begin{pmatrix} F_{k+1} \\\\ F_k \\end{pmatrix} = M^k \\begin{pmatrix} 1 \\\\ 0 \\end{pmatrix}.\n",
    "$$\n",
    "Потрібно довести, що твердження правильне для $ n = k + 1 $:\n",
    "$$\n",
    "\\begin{pmatrix} F_{k+2} \\\\ F_{k+1} \\end{pmatrix} = M^{k+1} \\begin{pmatrix} 1 \\\\ 0 \\end{pmatrix}.\n",
    "$$\n",
    "\n",
    "#### Доказ:\n",
    "Використовуючи рекурентне співвідношення Фібоначчі:\n",
    "$$\n",
    "F_{k+2} = F_{k+1} + F_k,\n",
    "$$\n",
    "отримуємо:\n",
    "$$\n",
    "\\begin{pmatrix} F_{k+2} \\\\ F_{k+1} \\end{pmatrix} = M \\begin{pmatrix} F_{k+1} \\\\ F_k \\end{pmatrix}.\n",
    "$$\n",
    "За припущенням індукції:\n",
    "$$\n",
    "\\begin{pmatrix} F_{k+1} \\\\ F_k \\end{pmatrix} = M^k \\begin{pmatrix} 1 \\\\ 0 \\end{pmatrix}.\n",
    "$$\n",
    "Підставляємо:\n",
    "$$\n",
    "\\begin{pmatrix} F_{k+2} \\\\ F_{k+1} \\end{pmatrix} = M \\cdot M^k \\begin{pmatrix} 1 \\\\ 0 \\end{pmatrix} = M^{k+1} \\begin{pmatrix} 1 \\\\ 0 \\end{pmatrix}.\n",
    "$$\n",
    "\n",
    "### Висновок:\n",
    "За принципом математичної індукції твердження підтверджено."
   ]
  },
  {
   "cell_type": "markdown",
   "metadata": {},
   "source": [
    "2️⃣ Розгляньте узагальнення цієї ситуації. Нехай задано лінійне рекурентне співвідношення $c_n = \\alpha_1 c_{n-1}+\\alpha_2 c_{n-2}+\\dots +\\alpha_kc_{n-k}$ з числовими коефіцієнтами $\\alpha_j$ та набір початкових значень $c_0, c_1 , \\dots, c_{k-1}$.\n",
    "\n",
    "\n",
    "Напишіть та протестуйте дві функції:\n",
    "\n",
    "1. Перша функція за заданим списком коефіцієнтів $\\alpha_j (j = 1, \\dots k)$, списком початкових значень $c_j (j = 0, \\dots k-1)$ і номером елемента $n$ обчислює $c_n$ за допомогою рекурсії (подумайте, як  раціонально реалізувати рекурсію).\n",
    "\n",
    "2. Друга функція за заданим списком коефіцієнтів $\\alpha_j (j = 1, \\dots k)$, списком початкових значень $c_j (j = 0, \\dots k-1)$ і номером елемента $n$ обчислює $c_n$ з за допомогою множення матриць (подумайте, як швидко обчислювати степінь матриці)."
   ]
  },
  {
   "cell_type": "code",
   "execution_count": null,
   "metadata": {
    "id": "-bt-iszTAyDN"
   },
   "outputs": [],
   "source": [
    "#write your code here\n",
    "import matplotlib.pyplot as plt\n",
    "import numpy as np\n",
    "import networkx as nx\n",
    "import pandas as pd\n",
    "from scipy import linalg\n",
    "import sympy\n",
    "\n",
    "def recursive_linear_recurrence(coefficients, initial_values, n, cache=None):\n",
    "    \"\"\"\n",
    "    Обчислює c_n за допомогою рекурсії з мемоізацією.\n",
    "\n",
    "    :param coefficients: список коефіцієнтів [alpha_1, alpha_2, ..., alpha_k]\n",
    "    :param initial_values: список початкових значень [c_0, c_1, ..., c_{k-1}]\n",
    "    :param n: номер елемента, який потрібно обчислити\n",
    "    :param cache: внутрішній словник для кешування (не треба передавати явно)\n",
    "    :return: c_n\n",
    "    \"\"\"\n",
    "    k = len(initial_values)  # порядок рекурентного співвідношення\n",
    "\n",
    "    # Ініціалізуємо кеш, якщо він ще не створений\n",
    "    if cache is None:\n",
    "        cache = {i: initial_values[i] for i in range(k)}\n",
    "\n",
    "    # Якщо значення вже в кеші, повертаємо його\n",
    "    if n in cache:\n",
    "        return cache[n]\n",
    "\n",
    "    # Рекурсивно обчислюємо c_n\n",
    "    result = sum(\n",
    "        coefficients[j] * recursive_linear_recurrence(coefficients, initial_values, n - j - 1, cache)\n",
    "        for j in range(k)\n",
    "    )\n",
    "\n",
    "    # Зберігаємо результат в кеші\n",
    "    cache[n] = result\n",
    "    return result\n",
    "\n",
    "\n",
    "def matrix_exponentiation(matrix, power):\n",
    "    \"\"\"\n",
    "    Швидке піднесення матриці до степеня за допомогою алгоритму \"Exponentiation by squaring\".\n",
    "\n",
    "    :param matrix: квадратна матриця\n",
    "    :param power: степінь\n",
    "    :return: matrix^power\n",
    "    \"\"\"\n",
    "    result = np.eye(matrix.shape[0], dtype=int)  # Початкове значення: одинична матриця\n",
    "    base = matrix.copy()\n",
    "\n",
    "    while power > 0:\n",
    "        if power % 2 == 1:  # Якщо степінь непарна\n",
    "            result = np.dot(result, base)\n",
    "        base = np.dot(base, base)  # Підносимо до квадрату\n",
    "        power //= 2\n",
    "\n",
    "    return result\n",
    "\n",
    "\n",
    "def matrix_linear_recurrence(coefficients, initial_values, n):\n",
    "    \"\"\"\n",
    "    Обчислює c_n за допомогою матричного підходу.\n",
    "\n",
    "    :param coefficients: список коефіцієнтів [alpha_1, alpha_2, ..., alpha_k]\n",
    "    :param initial_values: список початкових значень [c_0, c_1, ..., c_{k-1}]\n",
    "    :param n: номер елемента, який потрібно обчислити\n",
    "    :return: c_n\n",
    "    \"\"\"\n",
    "    k = len(initial_values)  # порядок рекурентного співвідношення\n",
    "\n",
    "    # Будуємо матрицю M\n",
    "    M = np.zeros((k, k), dtype=int)\n",
    "    M[0] = coefficients  # Перший рядок: коефіцієнти\n",
    "    for i in range(1, k):\n",
    "        M[i, i - 1] = 1  # Одиниці на діагоналі нижче головної\n",
    "\n",
    "    # Початковий вектор\n",
    "    vector = np.array(initial_values[::-1]).reshape(-1, 1)\n",
    "\n",
    "    # Обчислюємо M^n\n",
    "    M_power_n = matrix_exponentiation(M, n)\n",
    "\n",
    "    # Множимо M^n на початковий вектор\n",
    "    result_vector = np.dot(M_power_n, vector)\n",
    "\n",
    "    # Повертаємо перший елемент результату\n",
    "    return result_vector[0, 0]\n",
    "\n",
    "\n",
    "# Приклад використання:\n",
    "coefficients = [1, 2, 3]  # c_n = c_{n-1} + 2*c_{n-2} + 3*c_{n-3}\n",
    "initial_values = [1, 1, 2]  # c_0 = 1, c_1 = 1, c_2 = 2\n",
    "n = 10\n",
    "\n",
    "print(\"Рекурсивно:\", recursive_linear_recurrence(coefficients, initial_values, n))\n",
    "print(\"Матрично:\", matrix_linear_recurrence(coefficients, initial_values, n))"
   ]
  },
  {
   "cell_type": "markdown",
   "metadata": {},
   "source": [
    "Рішення методом індукції виконано на папері, потім за допомогою промту штучному інтелекту да документаціх згенеровано Markdown текст для полів. З кодом на python було часткове використання штучного інтелекту.\n"
   ]
  },
  {
   "cell_type": "markdown",
   "metadata": {},
   "source": [
    "3️⃣ Порівняйте швидкодію функцій:\n",
    "\n",
    "1) теоретично, тобто оцініть складності реалізованих алгоритмів;\n",
    "\n",
    "2) фактично, тобто заміряйте час обчислення кожної функції за допомогою %timeit;\n",
    "\n",
    "3) розгляньте залежність часу обчислення кожної функції від $n$, $k$, проілюструйте графіками;\n",
    "\n",
    "4) опишіть знайдені закономірності.\n"
   ]
  },
  {
   "cell_type": "markdown",
   "metadata": {},
   "source": [
    "# Теоретична оцінка складності алгоритмів\n",
    "\n",
    "## 1. Рекурсивний метод\n",
    "\n",
    "- **Складність**: $O(n \\cdot k) $\n",
    " - Для обчислення кожного елемента $c_n$ потрібно $k$ рекурсивних викликів (по одному для кожного коефіцієнта $\\alpha_j$).\n",
    " - Завдяки мемоізації, кожен елемент обчислюється лише один раз.\n",
    " - Загальна кількість операцій пропорційно $n\\cdot k$, де:\n",
    " - $ n $ - номер елемента послідовності,\n",
    " - $k$ - порядок рекурентного співвідношення.\n",
    "\n",
    "## 2. Матричний метод\n",
    "\n",
    "- **Складність**: $O(k^3 \\log n) $\n",
    " - Побудова матриці $M$ розміру $ k \\times k $ відбувається за $ O(k^2) $.\n",
    " - Зведення матриці $M$ у ступінь $n$ виконується з використанням алгоритму \"Exponentiation by squaring\", який вимагає $O(log n)$ множень матриць.\n",
    " - Кожне множення двох матриць розміру $k \\times k$ має складність  $ O(k^3) $.\n",
    " - Таким чином, загальна складність складає  $ O(k^3 \\log n) $.\n",
    "\n",
    "## 3. Порівняння складності\n",
    "\n",
    "| Метод         | Залежність від $ n $ | Залежність від $ k $ | Загальна складність    |\n",
    "|--------------|----------------------|----------------------|----------------------|\n",
    "| Рекурсивний  | $ O(n) $           | $ O(k) $           | $ O(n \\cdot k) $   |\n",
    "| Матричний    | $ O(\\log n) $     | $ O(k^3) $         | $ O(k^3 \\log n) $ |\n",
    "\n",
    "### Висновки:\n",
    "- **Для малих $ n $ і $ k $:**  \n",
    "  - Рекурсивний метод може бути швидшим через менші накладні витрати.  \n",
    "- **Для великих $ n $:**  \n",
    "  - Матричний метод значно ефективніший завдяки логарифмічній залежності від $ n $.  \n",
    "- **Для великих $ k $:**  \n",
    "  - Рекурсивний метод стає кращим вибором, оскільки складність матричного методу зростає кубічно зі збільшенням $ k $.  \n",
    "\n",
    "\n",
    " "
   ]
  },
  {
   "cell_type": "markdown",
   "metadata": {
    "id": "WSpKbeK8AyDO"
   },
   "source": [
    "<font color=\"red\"> *Коментар викладача:* <font>"
   ]
  },
  {
   "cell_type": "markdown",
   "metadata": {
    "id": "oXmrNhSbBin4"
   },
   "source": [
    " 💻 **Вправа 2.** Оберіть одну з вправ 2.1 - 2.5 на ваш вибір з комп'ютерного практикуму [LA_CP_02](https://github.com/LPolyakova/Linear_Algebra_for_CS_students/blob/main/CP/LA_CP_02_Linear_equations.ipynb). Скопіюйте умову в комірки нижче та виконайте завдання."
   ]
  },
  {
   "cell_type": "markdown",
   "metadata": {
    "id": "sTFY5FN4Bin5"
   },
   "source": [
    "\n",
    "💻  **2.3. Виключення Гаусса**\n",
    "\n",
    "Напишіть функцію, яка реалізує виключення Гаусса і зводить квадратну матрицю порядку 4 до зведеної ступінчастої форми. Не забудьте передбачити усілякі неприємності (коефіцієнт для виключення чергової змінної дорівнює 0, рядок перетворюється на нульовий, тощо), щоб ваша функція працювала для довільної матриці. Модифікуйте вашу функцію так, щоб вона працювала і для матриць $3\\times 4$. Модифікована функція знадобиться вам в задачі 2.5."
   ]
  },
  {
   "cell_type": "code",
   "execution_count": 6,
   "metadata": {
    "id": "O-_TE41GBin6"
   },
   "outputs": [
    {
     "name": "stdout",
     "output_type": "stream",
     "text": [
      "     0         1         2         3\n",
      "0  1.0  0.666667  1.333333  3.333333\n",
      "1  0.0  1.000000  0.285714  1.142857\n",
      "2  0.0  0.000000  1.000000  1.000000\n",
      "3  0.0  0.000000  0.000000  1.000000\n"
     ]
    }
   ],
   "source": [
    "# write your code here\n",
    "import numpy as np\n",
    "import pandas as pd\n",
    "import sympy as sp\n",
    "\n",
    "def gaussian_elimination(A):\n",
    "    A = sp.Matrix(A)  # Используем sympy для точных вычислений\n",
    "    rows, cols = A.shape\n",
    "    \n",
    "    for i in range(min(rows, cols)):\n",
    "        max_row = max(range(i, rows), key=lambda r: abs(A[r, i]))\n",
    "        if A[max_row, i] == 0:\n",
    "            continue\n",
    "        \n",
    "        A.row_swap(i, max_row)\n",
    "        A[i, :] = A[i, :] / A[i, i]\n",
    "        \n",
    "        for j in range(i + 1, rows):\n",
    "            A[j, :] -= A[i, :] * A[j, i]\n",
    "    \n",
    "    return A\n",
    "\n",
    "# Пример использования\n",
    "A = [[2, -1, 1, 3], [1, 3, 2, 6], [3, 2, 4, 10], [1, 1, 1, 4]]\n",
    "result = gaussian_elimination(A)\n",
    "print(pd.DataFrame(np.array(result).astype(float)))\n"
   ]
  },
  {
   "cell_type": "markdown",
   "metadata": {
    "id": "kM2eMouGBin6"
   },
   "source": [
    "<font color=\"red\"> *Коментар викладача:* <font>"
   ]
  },
  {
   "cell_type": "markdown",
   "metadata": {
    "id": "DT_1_UojBin7"
   },
   "source": [
    "\n",
    "🧩  **Задача 2.** Оберіть одну із задач 2.6 - 2.7 на ваш вибір з комп'ютерного практикуму [LA_CP_02](https://github.com/LPolyakova/Linear_Algebra_for_CS_students/blob/main/CP/LA_CP_02_Linear_equations.ipynb). Скопіюйте умову в комірки нижче та виконайте завдання."
   ]
  },
  {
   "cell_type": "markdown",
   "metadata": {
    "id": "TSuOsvX5Bin7"
   },
   "source": [
    "✔️ *Запишіть умови й розв'язки тут та нижче*"
   ]
  },
  {
   "cell_type": "code",
   "execution_count": null,
   "metadata": {
    "id": "6H9u5QiUBin7"
   },
   "outputs": [],
   "source": [
    "# write your code here"
   ]
  },
  {
   "cell_type": "markdown",
   "metadata": {
    "id": "D8I7MA99Bin8"
   },
   "source": [
    "<font color=\"red\"> *Коментар викладача:* <font>"
   ]
  },
  {
   "cell_type": "markdown",
   "metadata": {
    "id": "DUa8Uc9zBjl2"
   },
   "source": [
    "💻 **Вправа 3.** Оберіть одну з вправ 3.1 - 3.5 на ваш вибір з комп'ютерного практикуму [LA_CP_03](https://github.com/LPolyakova/Linear_Algebra_for_CS_students/blob/main/CP/LA_CP_03_Determinants.ipynb). Скопіюйте умову в комірки нижче та виконайте завдання."
   ]
  },
  {
   "cell_type": "markdown",
   "metadata": {
    "id": "CM4qpz4nBjl3"
   },
   "source": [
    "✔️ *Запишіть умови й розв'язки тут та нижче*\n",
    "## 💻 3.2. Площа паралелограма\n",
    "\n",
    "Три вершини паралелограма $ABCD$ задано координатами:  \n",
    "$ A(x_A, y_A), B(x_B, y_B), C(x_C, y_C) $ в стандартній прямокутній системі координат.\n",
    "\n",
    "### 1. Обчислення координат вершини $D(x_D, y_D)$\n",
    "Виразіть координати вершини $ D(x_D, y_D) $ через координати інших трьох вершин і напишіть функцію, яка отримує на вході координати вершин $ A, B, C $, обчислює вершину $ D(x_D, y_D) $ і малює паралелограм на площині.\n",
    "\n",
    "### 2. Формула площі паралелограма\n",
    "Доведіть, що площу паралелограма $ ABCD $ можна обчислити як модуль визначника:\n",
    "\n",
    "$$\n",
    "S = \\left| \\begin{vmatrix} \n",
    "x_B - x_A & x_D - x_A \\\\ \n",
    "y_B - y_A & y_D - y_A \n",
    "\\end{vmatrix} \\right|\n",
    "$$\n",
    "\n",
    "тобто визначника, складеного з координат векторів $ \\overrightarrow{AB} $ та $ \\overrightarrow{AD} $.  \n",
    "Користуючись цим, напишіть функцію, яка обчислює площу паралелограма $ ABCD $ за заданими координатами його вершин.\n"
   ]
  },
  {
   "cell_type": "code",
   "execution_count": 2,
   "metadata": {
    "id": "H79NjVGxBjl3"
   },
   "outputs": [
    {
     "name": "stdout",
     "output_type": "stream",
     "text": [
      "Координати D: (3, 0)\n"
     ]
    },
    {
     "data": {
      "image/png": "[encoded data removed]",
      "text/plain": [
       "<Figure size 640x480 with 1 Axes>"
      ]
     },
     "metadata": {},
     "output_type": "display_data"
    },
    {
     "name": "stdout",
     "output_type": "stream",
     "text": [
      "Площа паралелограма: 12\n"
     ]
    }
   ],
   "source": [
    "import matplotlib.pyplot as plt\n",
    "\n",
    "def find_D(A, B, C):\n",
    "    x_A, y_A = A\n",
    "    x_B, y_B = B\n",
    "    x_C, y_C = C\n",
    "    x_D = x_A + (x_C - x_B)\n",
    "    y_D = y_A + (y_C - y_B)\n",
    "    return (x_D, y_D)\n",
    "\n",
    "def plot_parallelogram(A, B, C, D):\n",
    "    X = [A[0], B[0], C[0], D[0], A[0]]\n",
    "    Y = [A[1], B[1], C[1], D[1], A[1]]\n",
    "    \n",
    "    plt.plot(X, Y, 'bo-')\n",
    "    plt.fill(X, Y, 'cyan', alpha=0.3)\n",
    "    plt.text(A[0], A[1], 'A', fontsize=12, verticalalignment='bottom', horizontalalignment='right')\n",
    "    plt.text(B[0], B[1], 'B', fontsize=12, verticalalignment='bottom', horizontalalignment='left')\n",
    "    plt.text(C[0], C[1], 'C', fontsize=12, verticalalignment='top', horizontalalignment='left')\n",
    "    plt.text(D[0], D[1], 'D', fontsize=12, verticalalignment='top', horizontalalignment='right')\n",
    "\n",
    "    plt.xlabel('X')\n",
    "    plt.ylabel('Y')\n",
    "    plt.grid()\n",
    "    plt.show()\n",
    "\n",
    "def parallelogram_area(A, B, D):\n",
    "    x_A, y_A = A\n",
    "    x_B, y_B = B\n",
    "    x_D, y_D = D\n",
    "    return abs((x_B - x_A) * (y_D - y_A) - (x_D - x_A) * (y_B - y_A))\n",
    "\n",
    "# Приклад використання\n",
    "A = (1, 2)\n",
    "B = (4, 5)\n",
    "C = (6, 3)\n",
    "\n",
    "D = find_D(A, B, C)\n",
    "print(f\"Координати D: {D}\")\n",
    "\n",
    "plot_parallelogram(A, B, C, D)\n",
    "\n",
    "S = parallelogram_area(A, B, D)\n",
    "print(f\"Площа паралелограма: {S}\")\n"
   ]
  },
  {
   "cell_type": "markdown",
   "metadata": {
    "id": "PhgPCwxVBjl3"
   },
   "source": [
    "<font color=\"red\"> *Коментар викладача:* <font>"
   ]
  },
  {
   "cell_type": "markdown",
   "metadata": {
    "id": "hLDe3ZyhBjl4"
   },
   "source": [
    "\n",
    "🧩  **Задача 3.** Оберіть одну із задач 3.6 - 3.7 на ваш вибір з комп'ютерного практикуму [LA_CP_03](https://github.com/LPolyakova/Linear_Algebra_for_CS_students/blob/main/CP/LA_CP_03_Determinants.ipynb). Скопіюйте умову в комірки нижче та виконайте завдання."
   ]
  },
  {
   "cell_type": "markdown",
   "metadata": {
    "id": "BX_IhGnqBjl4"
   },
   "source": [
    "✔️ *Запишіть умови й розв'язки тут та нижче*"
   ]
  },
  {
   "cell_type": "code",
   "execution_count": null,
   "metadata": {
    "id": "DOvnzHZsBjl4"
   },
   "outputs": [],
   "source": [
    "# write your code here"
   ]
  },
  {
   "cell_type": "markdown",
   "metadata": {
    "id": "VQjiSuZuBjl4"
   },
   "source": [
    "<font color=\"red\"> *Коментар викладача:* <font>"
   ]
  }
 ],
 "metadata": {
  "colab": {
   "provenance": []
  },
  "kernelspec": {
   "display_name": "Python 3",
   "language": "python",
   "name": "python3"
  },
  "language_info": {
   "codemirror_mode": {
    "name": "ipython",
    "version": 3
   },
   "file_extension": ".py",
   "mimetype": "text/x-python",
   "name": "python",
   "nbconvert_exporter": "python",
   "pygments_lexer": "ipython3",
   "version": "3.12.8"
  }
 },
 "nbformat": 4,
 "nbformat_minor": 4
}
