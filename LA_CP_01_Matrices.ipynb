{
 "cells": [
  {
   "cell_type": "markdown",
   "id": "d31d9623-571b-489a-bff7-9fe9a25d9f18",
   "metadata": {},
   "source": [
    "<a target=\"_blank\" href=\"https://colab.research.google.com/github/LPolyakova/Linear_Algebra_for_CS_students/blob/main/CP/LA_CP_01_Matrices.ipynb\">\n",
    "  <img src=\"https://colab.research.google.com/assets/colab-badge.svg\" alt=\"Open In Colab\"/>\n",
    "</a>"
   ]
  },
  {
   "cell_type": "markdown",
   "id": "37c98f43-7de0-4705-9027-086ec1ce2609",
   "metadata": {},
   "source": [
    "# ЛА-Компьютерний практикум-01. Матриці"
   ]
  },
  {
   "cell_type": "code",
   "execution_count": 1,
   "id": "78a0c669-3e61-42ca-90f6-59cfc254786e",
   "metadata": {},
   "outputs": [],
   "source": [
    "# these imports may be useful\n",
    "\n",
    "import pandas as pd\n",
    "import numpy as np"
   ]
  },
  {
   "cell_type": "markdown",
   "id": "b90895ce-5ab9-4197-85cc-0dc2f586d721",
   "metadata": {},
   "source": [
    " #### Деякі інструменти, які, можливо, стануть у нагоді. "
   ]
  },
  {
   "cell_type": "code",
   "execution_count": 8,
   "id": "96f03867-c0bc-43c0-a7bd-4a357860aef5",
   "metadata": {},
   "outputs": [
    {
     "name": "stdout",
     "output_type": "stream",
     "text": [
      " zero=[[0. 0. 0.]\n",
      " [0. 0. 0.]],\n",
      "\n",
      " all 1-matrix=[[1. 1. 1.]\n",
      " [1. 1. 1.]],\n",
      "\n",
      " a= [[1 2]\n",
      " [2 4]\n",
      " [3 6]],\n",
      "\n",
      " b = [[1]\n",
      " [2]],\n",
      "\n",
      " a^t = [[1 2 3]\n",
      " [2 4 6]],\n",
      "\n",
      " ab = [[ 5]\n",
      " [10]\n",
      " [15]], \n",
      "\n",
      " ab= [[ 5]\n",
      " [10]\n",
      " [15]] \n",
      "\n",
      "u=[1 2 3], v=[2 3 4], uv = 20\n"
     ]
    }
   ],
   "source": [
    "# these tools may be useful\n",
    "# give a matrix\n",
    "a = np.array([[1,2], [2,4], [3,6]]) #3x2 matrix\n",
    "b = np.array([[1], [2]])            #2x1 matrix = column vector\n",
    "\n",
    "#zero matrix\n",
    "z = np.zeros((2, 3))   \n",
    "\n",
    "#matrix with all 1 elements\n",
    "ones = np.ones((2,3))\n",
    "\n",
    "# transpose\n",
    "at = a.transpose()\n",
    "\n",
    "# matrix multiplication\n",
    "prod1 = a @ b\n",
    "prod2 = np.matmul(a, b)\n",
    "\n",
    "# dot (inner, scalar) product of vectors\n",
    "u = np.array([1,2,3])\n",
    "v = np.array([2,3,4])\n",
    "uv = np.dot(u, v)\n",
    "\n",
    "print(f' zero={z},\\n\\n all 1-matrix={ones},\\n\\n a= {a},\\n\\n b = {b},\\n\\n a^t = {at},\\n\\n ab = {prod1}, \\n\\n ab= {prod2} \\n')\n",
    "print(f'u={u}, v={v}, uv = {uv}')"
   ]
  },
  {
   "cell_type": "markdown",
   "id": "9fdd79dd-2132-4e66-9f29-2577a2d43534",
   "metadata": {},
   "source": [
    "## Вправи"
   ]
  },
  {
   "cell_type": "markdown",
   "id": "6ae08192-5bf8-4cc7-9516-a3f5888e6dec",
   "metadata": {},
   "source": [
    "💻  **1.1. Перевірка властивостей**\n",
    "\n",
    "Напишіть функції, які перевіряють чи є квадратна матриця\n",
    "1) симетричною;\n",
    "2) верхньотрикутною (нижньотрикутною);\n",
    "3) діагональною;\n",
    "4) скалярною\n",
    "\n",
    "Якщо вам знадобиться порівнювати матриці, то треба використовувати функцію numpy.allclose, а не оператор порівняння $==$. Подумайте чому.\n",
    "\n",
    "Знайдіть відповідні функції в numpy. Подивіться їх вихідний код та порівняйте з вашим."
   ]
  },
  {
   "cell_type": "code",
   "execution_count": null,
   "id": "2a6c1b73-1310-41b4-8667-86c63c60bd06",
   "metadata": {},
   "outputs": [],
   "source": [
    "#write your code here"
   ]
  },
  {
   "cell_type": "markdown",
   "id": "3a15132b-ad81-4e78-b1c7-5545343cd4a1",
   "metadata": {},
   "source": [
    "💻 **1.2. Діагоналі.** \n",
    "\n",
    "Напишіть функцію diag\\_matrix, яка отримує на вхід натуральне число $n$ і будує матрицю, на діагоналях якої стоять відповідно $0,1,2, \\dots n, n-1, \\dots 0$ . Наприклад, для $ n = 3 $ будує матрицю\n",
    "$\\left( \\begin{array}{cccc} 3 & 2 & 1 & 0 \\\\ 2 & 3 & 2 & 1 \\\\ 1 & 2 & 3 & 2 \\\\ 0 & 1 & 2 & 3 \\end{array} \\right)$. Використовуйте засоби numpy, не використовуйте цикли та поелементне присвоєння."
   ]
  },
  {
   "cell_type": "code",
   "execution_count": null,
   "id": "a71d4f33-4ea7-4bb6-9bbc-4fbf01eb07c2",
   "metadata": {},
   "outputs": [],
   "source": [
    "#write your code here"
   ]
  },
  {
   "cell_type": "markdown",
   "id": "0dad4270-afd7-4098-84d6-32086ec02670",
   "metadata": {},
   "source": [
    "💻 **1.3. Decorate matrix.** \n",
    "\n",
    "Напишіть функцію decorate\\_matrix, яка отримує на вхід матрицю $m\\times n$ і ``обходить'' її одиницями. Наприклад, із матриці\n",
    "\n",
    "$\\left( \\begin{array}{cc} 3 & 2 \\\\ 2 & 3 \\end{array} \\right)$ робить матрицю $\\left( \\begin{array}{cccc} 1 & 1 & 1 & 1 \\\\ 1 & 3 & 2 & 1 \\\\ 1 & 2 & 3 & 1 \\\\ 1 & 1 & 1 & 1 \\end{array} \\right)$. Використовуйте засоби numpy, не використовуйте цикли та поелементне присвоєння."
   ]
  },
  {
   "cell_type": "code",
   "execution_count": null,
   "id": "eea614e2-ceff-493f-acd1-64b7e09fca2c",
   "metadata": {},
   "outputs": [],
   "source": [
    "#write your code here"
   ]
  },
  {
   "cell_type": "markdown",
   "id": "664639ad-f320-47c3-8acb-21b97163db49",
   "metadata": {},
   "source": [
    "💻 **1.4. Рейтинг.**  У цій задачі ви складете найпростіший рейтинг студентів за допомогою множення матриць. Виконайте наступні кроки:\n",
    "\n",
    "1️⃣  Складіть таблицю з відомостями про успішність студентів (близько 50 осіб), яка містить  номер залікової книжки студента, прізвище та ім'я, номер групи, оцінки з наступних предметів: Calculus, Algebra, C++ programming, Algorithms, а також відомості про позанавчальну діяльність: Science, Sport, Social. Оцінки з предметів, а також оцінки позанавчальної діяльності студентів мають бути надані за 100-бальною шкалою. Ви можете використати ШІ для створення такої таблиці, знайти готові дані або ж придумати власний спосіб заповнення. Мінімізуйте кількість ручної роботи."
   ]
  },
  {
   "cell_type": "code",
   "execution_count": 10,
   "id": "45d8355d-0060-4d61-acea-ee81237eac19",
   "metadata": {},
   "outputs": [
    {
     "data": {
      "text/html": [
       "<div>\n",
       "<style scoped>\n",
       "    .dataframe tbody tr th:only-of-type {\n",
       "        vertical-align: middle;\n",
       "    }\n",
       "\n",
       "    .dataframe tbody tr th {\n",
       "        vertical-align: top;\n",
       "    }\n",
       "\n",
       "    .dataframe thead th {\n",
       "        text-align: right;\n",
       "    }\n",
       "</style>\n",
       "<table border=\"1\" class=\"dataframe\">\n",
       "  <thead>\n",
       "    <tr style=\"text-align: right;\">\n",
       "      <th></th>\n",
       "      <th>ID</th>\n",
       "      <th>NAME</th>\n",
       "      <th>GROUP</th>\n",
       "      <th>CALCULUS</th>\n",
       "      <th>ALGEBRA</th>\n",
       "      <th>C++</th>\n",
       "      <th>ALGORITHMS</th>\n",
       "      <th>SCIENCE</th>\n",
       "      <th>SPORT</th>\n",
       "      <th>SOCIAL</th>\n",
       "    </tr>\n",
       "  </thead>\n",
       "  <tbody>\n",
       "    <tr>\n",
       "      <th>0</th>\n",
       "      <td>MF_2025_01</td>\n",
       "      <td>Turing Alan M.</td>\n",
       "      <td>MF11</td>\n",
       "      <td>70</td>\n",
       "      <td>95</td>\n",
       "      <td>80</td>\n",
       "      <td>95</td>\n",
       "      <td>100</td>\n",
       "      <td>10</td>\n",
       "      <td>0</td>\n",
       "    </tr>\n",
       "  </tbody>\n",
       "</table>\n",
       "</div>"
      ],
      "text/plain": [
       "           ID            NAME GROUP  CALCULUS  ALGEBRA  C++  ALGORITHMS  \\\n",
       "0  MF_2025_01  Turing Alan M.  MF11        70       95   80          95   \n",
       "\n",
       "   SCIENCE  SPORT  SOCIAL  \n",
       "0      100     10       0  "
      ]
     },
     "execution_count": 10,
     "metadata": {},
     "output_type": "execute_result"
    }
   ],
   "source": [
    "activity = pd.DataFrame(columns=['ID', 'NAME', 'GROUP', 'CALCULUS', 'ALGEBRA', 'C++', 'ALGORITHMS', 'SCIENCE', 'SPORT', 'SOCIAL'])\n",
    "activity.loc[0] = {'ID' : \"MF_2025_01\", 'NAME': \"Turing Alan M.\", 'GROUP' : \"MF11\", \n",
    "                    'CALCULUS' : 70, 'ALGEBRA' : 95, 'C++' : 80, 'ALGORITHMS' : 95, 'SCIENCE' : 100, 'SPORT' : 10, 'SOCIAL' : 0}\n",
    "activity"
   ]
  },
  {
   "cell_type": "markdown",
   "id": "b410f9ff-c47c-458a-a9e8-48f98508b778",
   "metadata": {},
   "source": [
    "2️⃣  Деканат ухвалив рішення, що цього семестру при складанні стипендіального рейтингу найважливіше значення матимуть спеціальні предмети ('C++', 'ALGORITHMS'), а також наукова активність студентів ( 'SCIENCE') і визначив рейтингові коєфіцієнти: 'CALCULUS' 0.15; 'ALGEBRA' 0.15; 'C++' 0.2; 'ALGORITHMS' 0.2; 'SCIENCE' 0.2; 'SPORT' 0.05, 'SOCIAL' 0.05. Наприклад, підсумковий рейтинг ('SCORE') студента  Turing Alan M. складатиме $0.15\\cdot 70+0.15\\cdot 95+0.2\\cdot 80 +\\dots + 0.05\\cdot 0=80.25$\n",
    "  \n",
    "Складіть вектор рейтингових коефіцієнтів w (ваговий вектор). Зробіть виборку з оцінками з таблиці activity і збережіть у вигляді numpy-масиву values."
   ]
  },
  {
   "cell_type": "code",
   "execution_count": 30,
   "id": "06c7f7b2-0293-4f69-8b35-c25583a5d06d",
   "metadata": {},
   "outputs": [],
   "source": [
    "#write your code here\n",
    "#weights vector\n",
    "# w = \n",
    "\n",
    "#values matrix\n",
    "values = np.array(activity[['CALCULUS', 'ALGEBRA', 'C++', 'ALGORITHMS', 'SCIENCE', 'SPORT', 'SOCIAL']])\n"
   ]
  },
  {
   "cell_type": "markdown",
   "id": "880f0d50-cecb-4e74-b36a-aff9e736f5d5",
   "metadata": {},
   "source": [
    "3️⃣ Обчисліть рейтинги студентів ('SCORE') за допомогою матрично-векторного множення. Додайте стовпчик 'SCORE' до таблиці activity та відсортуйте студентів за цим стовпцем. "
   ]
  },
  {
   "cell_type": "code",
   "execution_count": 18,
   "id": "5f54d6fb-912c-4c2d-9c71-a0265d64eaa7",
   "metadata": {},
   "outputs": [],
   "source": [
    "#write your code here"
   ]
  },
  {
   "attachments": {},
   "cell_type": "markdown",
   "id": "04ecc399-530f-4339-8e5e-108719c80bff",
   "metadata": {},
   "source": [
    "4️⃣ Напишіть функції, які дозволяють за таблицею оцінок і вектором рейтингових коефіцієнтів\n",
    "\n",
    " + знаходити рейтинги усіх студентів і виводити його у вигляді таблиці або словника;\n",
    " + знаходити рейгинги студентів окремо за групами;\n",
    " + знаходити середній бал студентів окремо за предметами, окремо за позанавчальними активностями.\n",
    "\n",
    "Використайте матрично-векторні вирази.\n",
    "\n",
    "5️⃣ Протестуйте ваші функції й продемонструйте, як вони працюють. Наприклад, виведіть рейтинги окремо за кожною групою, змінюйте ваговий вектор, нарахуйте за рейтингом стипендію (перші 5% отримують підвищену стипендію, наступні 20% -- звичайну, інші -- не отримують), тощо."
   ]
  },
  {
   "cell_type": "code",
   "execution_count": 18,
   "id": "46d76725-1920-4cc6-b981-525272ef2f64",
   "metadata": {},
   "outputs": [],
   "source": [
    "#write your code here"
   ]
  },
  {
   "cell_type": "markdown",
   "id": "d9b0e9ff-d619-49c1-b90c-a7f58dd1b7d5",
   "metadata": {},
   "source": [
    "💻 **1.5. Маркетингова кампанія.** Компанія влаштовує рекламну кампанію своєї продукції. Для цього усіх потенційних клієнтів поділено на $m$ груп (кожна група характеризується спільними характеристиками, наприклад, чоловіки 35-45 років з вищою освітою або жінки-домогосподині віком понад 60, тощо). Компанія замовляє рекламу продукції за $n$ каналами (наприклад, на телебаченні, на веб-сайтах, у відео-блогах, поштою тощо). Здатність каналів забезпечити перегляди потенційних клієнтів характризується $m\\times n$ *матрицей охоплення*  $R=(R_{ij})$, де $R_{ij}$ -- це кількість переглядів клієнтів із групи $i$ на кожен долар (або іншу грошову одиницю), витрачений на рекламу в каналі $j$. Наприклад, якщо на рекламу на ТБ-шоу (канал 1) було витрачено 1000 доларів і це шоу подивилось 30 000 домогосподарок пенсійного віку (група 1) і 5 студентів-чоловіків віком до 25 років (група 2), то $R_{11}=30$, $R_{21} = 0.005$.\n",
    "\n",
    "Нехай вектор $c$ з $n$ компонентами характеризує витрати компанії на рекламу за $n$ каналами, а вектор $v$ з $m$ компонентами характеризує охоплення кожної з $m$ груп клієнтів за всіма каналами реклами, тобто $v_i$ -- це загальна кількість переглядів реклами за всіма каналами клієнтами з групи $i$. Також розглянемо вектор  $a$ з $m$ компонентами, для якого $a_i$ дорівнює доходу (в доларах) на один перегляд реклами клієнтом з групи $i$. Зауважимо, що всі елементи  $R, c, v, a$ є невід'ємними числами.\n",
    "\n",
    "Задайте власні приклади матриці $R$ і векторів $c, a$. Можете використати штучний інтелект для генерації, або ж вигадати щось своє. Намагайтеся зробити дані реалістичними."
   ]
  },
  {
   "cell_type": "code",
   "execution_count": null,
   "id": "49ab1207-32fb-4159-8069-aa87e141f5be",
   "metadata": {},
   "outputs": [],
   "source": [
    "#write your code here"
   ]
  },
  {
   "cell_type": "markdown",
   "id": "6b10a0f3-17cc-4971-81eb-ec64d0a98d1c",
   "metadata": {},
   "source": [
    "1️⃣  Розглянемо веторний вираз, за яким можна знайти загальну кількість грошей, що компанія витрачає на рекламу. Це має бути сума усіх компонент вектора $c$. За допомогою матрично-векторного запису цю суму можна подати як $1^t c$, де $1$ -- це вектор з  $n$ компонентами, кожна з яких дорівнює 1, $t$ означає транспонування, тобто $1^t$ -- це вектор-рядок з одиниць. \n",
    "\n",
    "Обчисліть, скільки ця сума складає у вашому випадку за допомогою отриманого виразу. "
   ]
  },
  {
   "cell_type": "code",
   "execution_count": 32,
   "id": "67639bcd-0824-4d7a-be30-f351eff54069",
   "metadata": {},
   "outputs": [],
   "source": [
    "#write your code here"
   ]
  },
  {
   "cell_type": "markdown",
   "id": "39905d40-84ba-4c54-ac47-45ccdb4a3c83",
   "metadata": {},
   "source": [
    "2️⃣  Виразіть вектор $v$ через інші вектори й матриці, задані в задачі. Обчисліть його.\n",
    "\n",
    "✔️ *Запишіть аналітичний вираз тут*"
   ]
  },
  {
   "cell_type": "code",
   "execution_count": 33,
   "id": "0d19f4cc-492e-40b2-a8d5-710165be7f5b",
   "metadata": {},
   "outputs": [],
   "source": [
    "#write your code here"
   ]
  },
  {
   "cell_type": "markdown",
   "id": "e9c79bef-4bbf-4fe4-b4f4-b5b99d87b2b7",
   "metadata": {},
   "source": [
    "3️⃣ Запишіть вираз, за яким можна знайти загальний дохід, що отримає компанія, застосовуючи рекламу. Обчисліть дохід.\n",
    "\n",
    "✔️ *Запишіть аналітичний вираз тут*"
   ]
  },
  {
   "cell_type": "code",
   "execution_count": 34,
   "id": "6ce92024-aeb3-4ab8-906a-53741a11343a",
   "metadata": {},
   "outputs": [],
   "source": [
    "#write your code here"
   ]
  },
  {
   "cell_type": "markdown",
   "id": "a7e4d417-d55b-4779-a1bf-e61a40281b3b",
   "metadata": {},
   "source": [
    "4️⃣  За матрицею $R$ знайдіть для кожної групи клієнтів той канал, який здійснює найбільше охоплення клієнтів цієї групи (на ньому вигідніше розміщувати рекламу)"
   ]
  },
  {
   "cell_type": "code",
   "execution_count": null,
   "id": "41809532-dc1f-40ef-b7ff-b8e85e1092be",
   "metadata": {},
   "outputs": [],
   "source": [
    "#write your code here"
   ]
  },
  {
   "cell_type": "markdown",
   "id": "2951cc3c-78c6-4b0d-a64a-a901fd4e69ad",
   "metadata": {},
   "source": [
    "## Задачі"
   ]
  },
  {
   "cell_type": "code",
   "execution_count": 31,
   "id": "94e86ff0-ee4b-416a-9ad6-6bb2a8a4fc7d",
   "metadata": {},
   "outputs": [],
   "source": [
    "# import section"
   ]
  },
  {
   "cell_type": "markdown",
   "id": "169579ea-f32c-4afd-8c44-82914254640f",
   "metadata": {},
   "source": [
    "🧩 **1.6. Лінійні рекурентні співвідношення**\n",
    "\n",
    "Числа Фібоначчі -- це послідовність чисел $F_n$, заданих умовами $F_0=0, F_1=1$, а далі $F_{n+1} = F_n+F_{n-1}$ для кожного $n>1$.\n",
    "\n",
    "Для обчислення чисел Фібоначчі  можна скористатися не лише традиційним, але й матричним способом.\n",
    "\n",
    "Розглянемо матрицю $M = \\left(\\begin{array}{cc}\n",
    "\t\t1 & 1  \\\\\n",
    "\t\t1 & 0 \n",
    "\t\\end{array}\n",
    "\t\\right) $. \n",
    "Тоді  $\\left(\\begin{array}{c}\n",
    "\t\tF_{n+1}   \\\\\n",
    "\t\tF_{n}  \n",
    "\t\\end{array}\n",
    "\t\\right) = M \\left(\\begin{array}{c} F_{n}   \\\\ F_{n-1}  \\end{array} \\right) $.\n"
   ]
  },
  {
   "cell_type": "markdown",
   "id": "adb8a640-8400-4eb5-a724-407b8a5cb1cd",
   "metadata": {},
   "source": [
    "1️⃣ Доведіть методом мат. індукції, що $\\left(\\begin{array}{c}\n",
    "F_{n+1} \\\\\n",
    "F_{n}\n",
    "\\end{array}\n",
    "\\right) = M^n \\left(\\begin{array}{c} 1 \\\\ 0 \\end{array} \\right) $.\n",
    "    \n",
    "Тобто для обчислення $n$ -го і $n + 1$ -го чисел Фібоначчі достатньо обчислити $n$ -ий степінь матриці $M$ і помножити на вектор початкових значень."
   ]
  },
  {
   "cell_type": "markdown",
   "id": "dac5f94e-7726-4e23-8cb5-c6eda016489a",
   "metadata": {},
   "source": [
    "✔️ *Ваші міркування запишіть тут.*\n",
    "\n",
    "# Доказательство методом математической индукции\n",
    "\n",
    "## Утверждение:\n",
    "Докажем, что для всех $ n \\geq 0 $ выполняется равенство:\n",
    "$$\n",
    "\\begin{pmatrix} F_{n+1} \\\\ F_n \\end{pmatrix} = M^n \\begin{pmatrix} 1 \\\\ 0 \\end{pmatrix},\n",
    "$$\n",
    "где $ M = \\begin{pmatrix} 1 & 1 \\\\ 1 & 0 \\end{pmatrix} $.\n",
    "\n",
    "## Доказательство:\n",
    "\n",
    "### База индукции ($ n = 0 $):\n",
    "Проверим утверждение для $ n = 0 $:\n",
    "$$\n",
    "\\begin{pmatrix} F_{0+1} \\\\ F_0 \\end{pmatrix} = \\begin{pmatrix} 1 \\\\ 0 \\end{pmatrix}.\n",
    "$$\n",
    "Справа:\n",
    "$$\n",
    "M^0 \\begin{pmatrix} 1 \\\\ 0 \\end{pmatrix} = I \\begin{pmatrix} 1 \\\\ 0 \\end{pmatrix} = \\begin{pmatrix} 1 \\\\ 0 \\end{pmatrix}.\n",
    "$$\n",
    "База выполняется.\n",
    "\n",
    "### Индукционный шаг:\n",
    "Предположим, что утверждение верно для $ n = k $, то есть:\n",
    "$$\n",
    "\\begin{pmatrix} F_{k+1} \\\\ F_k \\end{pmatrix} = M^k \\begin{pmatrix} 1 \\\\ 0 \\end{pmatrix}.\n",
    "$$\n",
    "Нужно доказать, что утверждение верно для $ n = k+1 $:\n",
    "$$\n",
    "\\begin{pmatrix} F_{k+2} \\\\ F_{k+1} \\end{pmatrix} = M^{k+1} \\begin{pmatrix} 1 \\\\ 0 \\end{pmatrix}.\n",
    "$$\n",
    "\n",
    "#### Доказательство:\n",
    "Используя рекуррентное соотношение Фибоначчи:\n",
    "$$\n",
    "F_{k+2} = F_{k+1} + F_k,\n",
    "$$\n",
    "получаем:\n",
    "$$\n",
    "\\begin{pmatrix} F_{k+2} \\\\ F_{k+1} \\end{pmatrix} = M \\begin{pmatrix} F_{k+1} \\\\ F_k \\end{pmatrix}.\n",
    "$$\n",
    "По предположению индукции:\n",
    "$$\n",
    "\\begin{pmatrix} F_{k+1} \\\\ F_k \\end{pmatrix} = M^k \\begin{pmatrix} 1 \\\\ 0 \\end{pmatrix}.\n",
    "$$\n",
    "Подставляем:\n",
    "$$\n",
    "\\begin{pmatrix} F_{k+2} \\\\ F_{k+1} \\end{pmatrix} = M \\cdot M^k \\begin{pmatrix} 1 \\\\ 0 \\end{pmatrix} = M^{k+1} \\begin{pmatrix} 1 \\\\ 0 \\end{pmatrix}.\n",
    "$$\n",
    "\n",
    "### Заключение:\n",
    "По принципу математической индукции утверждение доказано."
   ]
  },
  {
   "cell_type": "markdown",
   "id": "488b86ee-23b5-4c8a-9cb5-1f4cf457be63",
   "metadata": {},
   "source": [
    "2️⃣ Розгляньте узагальнення цієї ситуації. Нехай задано лінійне рекурентне співвідношення $c_n = \\alpha_1 c_{n-1}+\\alpha_2 c_{n-2}+\\dots +\\alpha_kc_{n-k}$ з числовими коефіцієнтами $\\alpha_j$ та набір початкових значень $c_0, c_1 , \\dots, c_{k-1}$.\n",
    "\n",
    "\n",
    "Напишіть та протестуйте дві функції:\n",
    "\n",
    "1. Перша функція за заданим списком коефіцієнтів $\\alpha_j (j = 1, \\dots k)$, списком початкових значень $c_j (j = 0, \\dots k-1)$ і номером елемента $n$ обчислює $c_n$ за допомогою рекурсії (подумайте, як  раціонально реалізувати рекурсію).\n",
    "\n",
    "2. Друга функція за заданим списком коефіцієнтів $\\alpha_j (j = 1, \\dots k)$, списком початкових значень $c_j (j = 0, \\dots k-1)$ і номером елемента $n$ обчислює $c_n$ з за допомогою множення матриць (подумайте, як швидко обчислювати степінь матриці)."
   ]
  },
  {
   "cell_type": "code",
   "execution_count": 1,
   "id": "dac9dcc7-7c59-40e0-a968-d5dccf4d2c5c",
   "metadata": {},
   "outputs": [
    {
     "name": "stdout",
     "output_type": "stream",
     "text": [
      "Рекурсивно: 2597\n",
      "Матрично: 14654\n"
     ]
    }
   ],
   "source": [
    "#write your code here\n",
    "import matplotlib.pyplot as plt\n",
    "import numpy as np\n",
    "import networkx as nx\n",
    "import pandas as pd\n",
    "from scipy import linalg\n",
    "import sympy\n",
    "\n",
    "def recursive_linear_recurrence(coefficients, initial_values, n, cache=None):\n",
    "    \"\"\"\n",
    "    Обчислює c_n за допомогою рекурсії з мемоізацією.\n",
    "\n",
    "    :param coefficients: список коефіцієнтів [alpha_1, alpha_2, ..., alpha_k]\n",
    "    :param initial_values: список початкових значень [c_0, c_1, ..., c_{k-1}]\n",
    "    :param n: номер елемента, який потрібно обчислити\n",
    "    :param cache: внутрішній словник для кешування (не треба передавати явно)\n",
    "    :return: c_n\n",
    "    \"\"\"\n",
    "    k = len(initial_values)  # порядок рекурентного співвідношення\n",
    "\n",
    "    # Ініціалізуємо кеш, якщо він ще не створений\n",
    "    if cache is None:\n",
    "        cache = {i: initial_values[i] for i in range(k)}\n",
    "\n",
    "    # Якщо значення вже в кеші, повертаємо його\n",
    "    if n in cache:\n",
    "        return cache[n]\n",
    "\n",
    "    # Рекурсивно обчислюємо c_n\n",
    "    result = sum(\n",
    "        coefficients[j] * recursive_linear_recurrence(coefficients, initial_values, n - j - 1, cache)\n",
    "        for j in range(k)\n",
    "    )\n",
    "\n",
    "    # Зберігаємо результат в кеші\n",
    "    cache[n] = result\n",
    "    return result\n",
    "\n",
    "\n",
    "def matrix_exponentiation(matrix, power):\n",
    "    \"\"\"\n",
    "    Швидке піднесення матриці до степеня за допомогою алгоритму \"Exponentiation by squaring\".\n",
    "\n",
    "    :param matrix: квадратна матриця\n",
    "    :param power: степінь\n",
    "    :return: matrix^power\n",
    "    \"\"\"\n",
    "    result = np.eye(matrix.shape[0], dtype=int)  # Початкове значення: одинична матриця\n",
    "    base = matrix.copy()\n",
    "\n",
    "    while power > 0:\n",
    "        if power % 2 == 1:  # Якщо степінь непарна\n",
    "            result = np.dot(result, base)\n",
    "        base = np.dot(base, base)  # Підносимо до квадрату\n",
    "        power //= 2\n",
    "\n",
    "    return result\n",
    "\n",
    "\n",
    "def matrix_linear_recurrence(coefficients, initial_values, n):\n",
    "    \"\"\"\n",
    "    Обчислює c_n за допомогою матричного підходу.\n",
    "\n",
    "    :param coefficients: список коефіцієнтів [alpha_1, alpha_2, ..., alpha_k]\n",
    "    :param initial_values: список початкових значень [c_0, c_1, ..., c_{k-1}]\n",
    "    :param n: номер елемента, який потрібно обчислити\n",
    "    :return: c_n\n",
    "    \"\"\"\n",
    "    k = len(initial_values)  # порядок рекурентного співвідношення\n",
    "\n",
    "    # Будуємо матрицю M\n",
    "    M = np.zeros((k, k), dtype=int)\n",
    "    M[0] = coefficients  # Перший рядок: коефіцієнти\n",
    "    for i in range(1, k):\n",
    "        M[i, i - 1] = 1  # Одиниці на діагоналі нижче головної\n",
    "\n",
    "    # Початковий вектор\n",
    "    vector = np.array(initial_values[::-1]).reshape(-1, 1)\n",
    "\n",
    "    # Обчислюємо M^n\n",
    "    M_power_n = matrix_exponentiation(M, n)\n",
    "\n",
    "    # Множимо M^n на початковий вектор\n",
    "    result_vector = np.dot(M_power_n, vector)\n",
    "\n",
    "    # Повертаємо перший елемент результату\n",
    "    return result_vector[0, 0]\n",
    "\n",
    "\n",
    "# Приклад використання:\n",
    "coefficients = [1, 2, 3]  # c_n = c_{n-1} + 2*c_{n-2} + 3*c_{n-3}\n",
    "initial_values = [1, 1, 2]  # c_0 = 1, c_1 = 1, c_2 = 2\n",
    "n = 10\n",
    "\n",
    "print(\"Рекурсивно:\", recursive_linear_recurrence(coefficients, initial_values, n))\n",
    "print(\"Матрично:\", matrix_linear_recurrence(coefficients, initial_values, n))"
   ]
  },
  {
   "cell_type": "markdown",
   "id": "5b374630-6000-4c8f-9e3f-ffdf08b063bd",
   "metadata": {},
   "source": [
    "3️⃣ Порівняйте швидкодію функцій:\n",
    "\n",
    "1) теоретично, тобто оцініть складності реалізованих алгоритмів;\n",
    "\n",
    "2) фактично, тобто заміряйте час обчислення кожної функції за допомогою %timeit;\n",
    "\n",
    "3) розгляньте залежність часу обчислення кожної функції від $n$, $k$, проілюструйте графіками;\n",
    "\n",
    "4) опишіть знайдені закономірності."
   ]
  },
  {
   "cell_type": "markdown",
   "id": "3ea8bea0",
   "metadata": {},
   "source": [
    "# Теоретическая оценка сложности алгоритмов\n",
    "\n",
    "## 1. Рекурсивный метод\n",
    "\n",
    "- **Сложность**: $ O(n \\cdot k) $\n",
    "  - Для вычисления каждого элемента $ c_n $ требуется $ k $ рекурсивных вызовов (по одному для каждого коэффициента $ \\alpha_j $).\n",
    "  - Благодаря мемоизации, каждый элемент вычисляется только один раз.\n",
    "  - Общее количество операций пропорционально $ n \\cdot k $, где:\n",
    "    - $ n $ — номер элемента последовательности,\n",
    "    - $ k $ — порядок рекуррентного соотношения.\n",
    "\n",
    "## 2. Матричный метод\n",
    "\n",
    "- **Сложность**: $ O(k^3 \\log n) $\n",
    "  - Построение матрицы $ M $ размера $ k \\times k $ происходит за $ O(k^2) $.\n",
    "  - Возведение матрицы $ M $ в степень $ n $ выполняется с использованием алгоритма \"Exponentiation by squaring\", который требует $ O(\\log n) $ умножений матриц.\n",
    "  - Каждое умножение двух матриц размера $ k \\times k $ имеет сложность $ O(k^3) $.\n",
    "  - Таким образом, общая сложность составляет $ O(k^3 \\log n) $.\n",
    "\n",
    "## 3. Сравнение сложностей\n",
    "\n",
    "| Метод          | Зависимость от $ n $ | Зависимость от $ k $ | Общая сложность       |\n",
    "|----------------|-----------------------|-----------------------|-----------------------|\n",
    "| Рекурсивный    | $ O(n) $           | $ O(k) $           | $ O(n \\cdot k) $   |\n",
    "| Матричный      | $ O(\\log n) $     | $ O(k^3) $         | $ O(k^3 \\log n) $ |\n",
    "\n",
    "### Выводы:\n",
    "- **Для малых $ n $ и $ k $:**\n",
    "  - Рекурсивный метод может быть быстрее из-за меньших накладных расходов.\n",
    "- **Для больших $ n $:**\n",
    "  - Матричный метод значительно эффективнее благодаря логарифмической зависимости от $ n $.\n",
    "- **Для больших $ k $:**\n",
    "  - Рекурсивный метод становится предпочтительным, так как сложность матричного метода растет кубически с увеличением $ k $."
   ]
  },
  {
   "cell_type": "markdown",
   "id": "44c99409-8471-4752-a81b-f8dd5ba911e3",
   "metadata": {},
   "source": [
    "✔️ *Ваші міркування запишіть тут.*"
   ]
  },
  {
   "cell_type": "code",
   "execution_count": null,
   "id": "a49d2b2d-e536-4e1c-8276-d781e4009a07",
   "metadata": {},
   "outputs": [],
   "source": [
    "#write your code here"
   ]
  },
  {
   "cell_type": "markdown",
   "id": "c16d3c94-5883-4863-89fb-478a5fcfcdff",
   "metadata": {},
   "source": [
    "🧩 **1.7. Оцінки складності**\n",
    "\n",
    "У цій задачі ви будете досліджувати складність виконання дій над матрицями та векторами, тобто кількість операцій, що їх необхідно виконати, щоб отримати результат в залежності від вхідних розмірів матриць.\n",
    "\n",
    "Як одиницю кількості операцій ми будемо розглядали так званий flop (FLoating-point OPeration). 1 flop -- це одна арифметична операція (додавання, віднімання, множення, ділення) над двома числами, записаними у форматa floating point. Швидкість виконання операцій комп'ютером, зазвичай, вимірюється у Gflop/s (гіга-flop за секунду), тобто скільки мільярдів ($10^9$) операцій в секунду здатен робити комп'ютер.\n",
    "\n",
    "Наприклад, щоб знайти скалярний добуток двох $n$-векторів $u^tv=u_1v_1+\\dots +u_nv_n$, треба виконати $n$ множень та $n-1$ додавання, тобто складність обчислення скалярного добутку двох $n$-векторів дорівнює $(2n-1)$ flop. Часто, порівняно незначні члени виразів опускають. Наприклад, для скалярного добутку, вважають, що складність його обчислення дорівнює приблизно $2n$ flop."
   ]
  },
  {
   "cell_type": "markdown",
   "id": "5daa1566-34f2-48f6-a317-7a9fbc288bbb",
   "metadata": {},
   "source": [
    "1️⃣ Знайдіть складність обчислення добутку $m\\times n$ матриці $A$ на $n$-вектор $x$.\n",
    "\n",
    "1) Якщо множити способом \"рядок на стовпчик\";\n",
    "2) Якщо знаходити лінійну комбінацію стовпчиків матриці  $A$.\n",
    "\n",
    "Порівняйте складності двох способів.\n",
    "\n",
    "✔️ *Ваші міркування запишіть тут.*"
   ]
  },
  {
   "cell_type": "markdown",
   "id": "0125c7d1-25c8-4ada-9fbe-d1eebdd0cd10",
   "metadata": {},
   "source": [
    "2️⃣ Знайдіть складність обчислення добутку двох квадратних матриць порядку $n$ для кожного з чотирьох способів множення матриць. Порівняйте.\n",
    "\n",
    "✔️ *Ваші міркування запишіть тут.*"
   ]
  },
  {
   "cell_type": "markdown",
   "id": "e60b9b1f-00d0-4606-a835-e3fb04161706",
   "metadata": {},
   "source": [
    "3️⃣ Реалізуйте 4 способи множення матриць. Протестуйте, скільки часу витрачає кожен спосіб множення матриць. Для тестування можна побудувати випадкові матриці (наприклад, за допомогою np.random) досить великого порядку, для вимірювання часу можна використати функцію %timeit.\n",
    "Порівняйте теоретичні розрахунки з виміряними фактично."
   ]
  },
  {
   "cell_type": "code",
   "execution_count": 36,
   "id": "f87fb0c2-3ad3-4650-8247-e2703454c1ca",
   "metadata": {},
   "outputs": [],
   "source": [
    "#write your code here"
   ]
  },
  {
   "cell_type": "code",
   "execution_count": null,
   "id": "b56a9177-8e5b-4dd2-8ec3-97911e220399",
   "metadata": {},
   "outputs": [],
   "source": []
  },
  {
   "cell_type": "code",
   "execution_count": null,
   "id": "7d8e7ecb-7ae2-40ed-903d-a30cce1cee9d",
   "metadata": {},
   "outputs": [],
   "source": []
  }
 ],
 "metadata": {
  "kernelspec": {
   "display_name": "Python 3",
   "language": "python",
   "name": "python3"
  },
  "language_info": {
   "codemirror_mode": {
    "name": "ipython",
    "version": 3
   },
   "file_extension": ".py",
   "mimetype": "text/x-python",
   "name": "python",
   "nbconvert_exporter": "python",
   "pygments_lexer": "ipython3",
   "version": "3.12.8"
  }
 },
 "nbformat": 4,
 "nbformat_minor": 5
}
